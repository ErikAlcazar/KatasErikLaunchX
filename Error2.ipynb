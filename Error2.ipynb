{
 "cells": [
  {
   "cell_type": "code",
   "execution_count": 1,
   "metadata": {},
   "outputs": [
    {
     "name": "stdout",
     "output_type": "stream",
     "text": [
      "ERROR. No es posible encontrar el archivo config.txt!:  [Errno 2] No such file or directory: 'config.txt'\n"
     ]
    }
   ],
   "source": [
    "def main():\n",
    "    try:\n",
    "        configuration = open(\"config.txt\")\n",
    "    except FileNotFoundError as notFound:\n",
    "        print(\"ERROR. No es posible encontrar el archivo config.txt!: \", notFound)\n",
    "    except IsADirectoryError as directoryError:\n",
    "        print(\"ERROR. config.txt es un directorio, no un archivo!: \", directoryError)\n",
    "    except PermissionError:\n",
    "        print(\"ERROR. Se encontro config.txt, pero no es posible abrirlo: \", PermissionError)\n",
    "    except (BlockingIOError, TimeoutError):\n",
    "        print(\"ERROR. Sistema de navegación está bajo cargas pesadas y el sistema de archivos está demasiado ocupado.\")\n",
    "if( __name__ == \"__main__\"):\n",
    "    main()"
   ]
  },
  {
   "cell_type": "code",
   "execution_count": 2,
   "metadata": {},
   "outputs": [
    {
     "name": "stdout",
     "output_type": "stream",
     "text": [
      "ERROR. No es posible abrir el archivo config.txt\n"
     ]
    }
   ],
   "source": [
    "def main():\n",
    "    try:\n",
    "        configuration = open(\"config.txt\")\n",
    "    except OSError as error:\n",
    "        if(error.errno == 2):\n",
    "            print(\"ERROR. No es posible abrir el archivo config.txt\")\n",
    "        elif(error.errno == 13):\n",
    "            print(\"ERROR. Se econtro el archivo config.txt, pero no es posible abrirlo.\")\n",
    "if( __name__ == \"__main__\"):\n",
    "    main()"
   ]
  }
 ],
 "metadata": {
  "interpreter": {
   "hash": "2be5faf79681da6f2a61fdfdd5405d65d042280f7fba6178067603e3a2925119"
  },
  "kernelspec": {
   "display_name": "Python 3.10.2 64-bit",
   "language": "python",
   "name": "python3"
  },
  "language_info": {
   "codemirror_mode": {
    "name": "ipython",
    "version": 3
   },
   "file_extension": ".py",
   "mimetype": "text/x-python",
   "name": "python",
   "nbconvert_exporter": "python",
   "pygments_lexer": "ipython3",
   "version": "3.10.2"
  },
  "orig_nbformat": 4
 },
 "nbformat": 4,
 "nbformat_minor": 2
}
